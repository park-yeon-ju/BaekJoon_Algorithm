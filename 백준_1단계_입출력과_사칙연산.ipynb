{
  "nbformat": 4,
  "nbformat_minor": 0,
  "metadata": {
    "colab": {
      "provenance": [],
      "collapsed_sections": []
    },
    "kernelspec": {
      "name": "python3",
      "display_name": "Python 3"
    },
    "language_info": {
      "name": "python"
    }
  },
  "cells": [
    {
      "cell_type": "code",
      "execution_count": 1,
      "metadata": {
        "id": "VcgUqKrunou5",
        "colab": {
          "base_uri": "https://localhost:8080/"
        },
        "outputId": "d1728750-dd59-44f3-ea90-fc1c9700c5ea"
      },
      "outputs": [
        {
          "output_type": "stream",
          "name": "stdout",
          "text": [
            "Hello World!\n"
          ]
        }
      ],
      "source": [
        "#1단계 입출력과 사칙연산\n",
        "#1 Hello World\n",
        "\n",
        "print(\"Hello World!\")"
      ]
    },
    {
      "cell_type": "code",
      "execution_count": 2,
      "metadata": {
        "id": "QXRuYz0enpJB",
        "colab": {
          "base_uri": "https://localhost:8080/"
        },
        "outputId": "a61baf39-5efd-4318-814f-81411fabbffc"
      },
      "outputs": [
        {
          "output_type": "stream",
          "name": "stdout",
          "text": [
            "강한친구 대한육군\n",
            "강한친구 대한육군\n"
          ]
        }
      ],
      "source": [
        "#1단계 입출력과 사칙연산\n",
        "#2 We love kriii\n",
        "\n",
        "print(\"강한친구 대한육군\\n강한친구 대한육군\")"
      ]
    },
    {
      "cell_type": "code",
      "execution_count": 3,
      "metadata": {
        "id": "vdw4eYDJnpNe",
        "colab": {
          "base_uri": "https://localhost:8080/"
        },
        "outputId": "10230500-19e3-48e5-b8e2-ec2f9c07e4b0"
      },
      "outputs": [
        {
          "output_type": "stream",
          "name": "stdout",
          "text": [
            "1 2\n",
            "3\n"
          ]
        }
      ],
      "source": [
        "#1단계 입출력과 사칙연산\n",
        "#3 A+B\n",
        "\n",
        "A, B = input().split()\n",
        "print(int(A)+int(B))"
      ]
    },
    {
      "cell_type": "code",
      "execution_count": 4,
      "metadata": {
        "id": "P3tsRjDGnpRj",
        "colab": {
          "base_uri": "https://localhost:8080/"
        },
        "outputId": "ea532ef1-04c1-4454-f0b1-5d90bb7966ba"
      },
      "outputs": [
        {
          "output_type": "stream",
          "name": "stdout",
          "text": [
            "3 2\n",
            "1\n"
          ]
        }
      ],
      "source": [
        "#1단계 입출력과 사칙연산\n",
        "#4 A-B\n",
        "\n",
        "A, B = input().split()\n",
        "print(int(A)-int(B))"
      ]
    },
    {
      "cell_type": "code",
      "execution_count": 5,
      "metadata": {
        "id": "EJL7xhG5npVM",
        "colab": {
          "base_uri": "https://localhost:8080/"
        },
        "outputId": "841e3ff2-95a1-46ee-ce74-00ac88a873fa"
      },
      "outputs": [
        {
          "output_type": "stream",
          "name": "stdout",
          "text": [
            "1 2\n",
            "2\n"
          ]
        }
      ],
      "source": [
        "#1단계 입출력과 사칙연산\n",
        "#5 A×B\n",
        "\n",
        "A, B = input().split()\n",
        "print(int(A)*int(B))"
      ]
    },
    {
      "cell_type": "code",
      "execution_count": 6,
      "metadata": {
        "id": "SaBuGF8xnpZK",
        "colab": {
          "base_uri": "https://localhost:8080/"
        },
        "outputId": "6c2fb7f5-e3e5-488e-f1c0-4cffe32556eb"
      },
      "outputs": [
        {
          "output_type": "stream",
          "name": "stdout",
          "text": [
            "1 3\n",
            "0.3333333333333333\n"
          ]
        }
      ],
      "source": [
        "#1단계 입출력과 사칙연산\n",
        "#6 A/B\n",
        "\n",
        "A, B = input().split()\n",
        "print(float(A)/float(B))"
      ]
    },
    {
      "cell_type": "code",
      "execution_count": 7,
      "metadata": {
        "id": "IMolt5k4npcs",
        "colab": {
          "base_uri": "https://localhost:8080/"
        },
        "outputId": "0eb91ee2-e8ef-4c73-e1f6-54928a94fb63"
      },
      "outputs": [
        {
          "output_type": "stream",
          "name": "stdout",
          "text": [
            "7 3\n",
            "10\n",
            "4\n",
            "21\n",
            "2\n",
            "1\n"
          ]
        }
      ],
      "source": [
        "#1단계 입출력과 사칙연산\n",
        "#7 사칙연산\n",
        "\n",
        "A, B = input().split()\n",
        "A = int(A)\n",
        "B = int(B)\n",
        "\n",
        "print(A+B,A-B,A*B,A//B,A%B, sep='\\n')"
      ]
    },
    {
      "cell_type": "code",
      "execution_count": 8,
      "metadata": {
        "id": "t1imFvkInpgD",
        "colab": {
          "base_uri": "https://localhost:8080/"
        },
        "outputId": "99feecaf-eae4-4575-b3d2-347b51f5c046"
      },
      "outputs": [
        {
          "output_type": "stream",
          "name": "stdout",
          "text": [
            "baekjoon\n",
            "baekjoon??!\n"
          ]
        }
      ],
      "source": [
        "#1단계 입출력과 사칙연산\n",
        "#8 ??!\n",
        "\n",
        "s = input()\n",
        "print(s+'??!')"
      ]
    },
    {
      "cell_type": "code",
      "execution_count": 9,
      "metadata": {
        "id": "sMOkU5iOnpjs",
        "colab": {
          "base_uri": "https://localhost:8080/"
        },
        "outputId": "2d2ed8b9-802e-4d44-f9eb-eb0cbd9c3699"
      },
      "outputs": [
        {
          "output_type": "stream",
          "name": "stdout",
          "text": [
            "2541\n",
            "1998\n"
          ]
        }
      ],
      "source": [
        "#1단계 입출력과 사칙연산\n",
        "#9 1998년생인 내가 태국에서는 2541년생?!\n",
        "\n",
        "s = input()\n",
        "print(int(s) - 543)"
      ]
    },
    {
      "cell_type": "code",
      "execution_count": 10,
      "metadata": {
        "id": "4I9gxDA7npnH",
        "colab": {
          "base_uri": "https://localhost:8080/"
        },
        "outputId": "dedb8a8e-a9a1-4308-bfbc-faf51ec8a938"
      },
      "outputs": [
        {
          "output_type": "stream",
          "name": "stdout",
          "text": [
            "0 1 2 2 2 7\n",
            "1 0 0 0 0 1 "
          ]
        }
      ],
      "source": [
        "#1단계 입출력과 사칙연산\n",
        "#10 킹, 퀸, 룩, 비숍, 나이트, 폰\n",
        "\n",
        "c = [1,1,2,2,2,8]\n",
        "a = list(map(int, input().split()))\n",
        "\n",
        "for i in range(6) :\n",
        "    print(c[i] - a[i], end=' ')"
      ]
    },
    {
      "cell_type": "code",
      "execution_count": 11,
      "metadata": {
        "id": "PXfhnNNrnpqp",
        "colab": {
          "base_uri": "https://localhost:8080/"
        },
        "outputId": "0ec95e6e-6f54-447f-eadd-52d8917757b5"
      },
      "outputs": [
        {
          "output_type": "stream",
          "name": "stdout",
          "text": [
            "5 8 4\n",
            "1\n",
            "1\n",
            "0\n",
            "0\n"
          ]
        }
      ],
      "source": [
        "#1단계 입출력과 사칙연산\n",
        "#11 나머지\n",
        "\n",
        "A, B, C = map(int, input().split())\n",
        "\n",
        "print((A+B)%C, ((A%C)+(B%C))%C, (A*B)%C, ((A%C)*(B%C))%C, sep='\\n')"
      ]
    },
    {
      "cell_type": "code",
      "execution_count": 12,
      "metadata": {
        "id": "L4bVMHO2npuT",
        "colab": {
          "base_uri": "https://localhost:8080/"
        },
        "outputId": "eebd5e29-b3a8-47ee-e5a6-04d0b558d1d4"
      },
      "outputs": [
        {
          "output_type": "stream",
          "name": "stdout",
          "text": [
            "472\n",
            "385\n",
            "2360\n",
            "3776\n",
            "1416\n",
            "181720\n"
          ]
        }
      ],
      "source": [
        "#1단계 입출력과 사칙연산\n",
        "#12 곱셈\n",
        "\n",
        "n1 = int(input())\n",
        "n2 = int(input())\n",
        "\n",
        "print(n1*(n2%100%10), n1*(n2%100//10), n1*(n2//100), sep='\\n')\n",
        "print(n1*(n2%100%10) + n1*(n2%100//10)*10 + n1*(n2//100)*100)"
      ]
    },
    {
      "cell_type": "code",
      "execution_count": 13,
      "metadata": {
        "id": "aEqOJRl3npx9",
        "colab": {
          "base_uri": "https://localhost:8080/"
        },
        "outputId": "551aab6f-44ca-4e3c-cebf-684494540c57"
      },
      "outputs": [
        {
          "output_type": "stream",
          "name": "stdout",
          "text": [
            "\\    /\\\n",
            " )  ( ')\n",
            "(  /  )\n",
            " \\(__)|\n"
          ]
        }
      ],
      "source": [
        "#1단계 입출력과 사칙연산\n",
        "#13 고양이\n",
        "\n",
        "print(\"\\\\    /\\\\\")\n",
        "print(\" )  ( ')\")\n",
        "print(\"(  /  )\")\n",
        "print(\" \\\\(__)|\")"
      ]
    },
    {
      "cell_type": "code",
      "execution_count": 14,
      "metadata": {
        "id": "4lP6myYUnp2H",
        "colab": {
          "base_uri": "https://localhost:8080/"
        },
        "outputId": "3658bd86-3af7-486a-968f-1803e3dc0362"
      },
      "outputs": [
        {
          "output_type": "stream",
          "name": "stdout",
          "text": [
            "|\\_/|\n",
            "|q p|   /}\n",
            "( 0 )\"\"\"\\\n",
            "|\"^\"`    |\n",
            "||_/=\\\\__|\n"
          ]
        }
      ],
      "source": [
        "#1단계 입출력과 사칙연산\n",
        "#14 개\n",
        "\n",
        "print('|\\\\_/|')\n",
        "print('|q p|   /}')\n",
        "print('( 0 )\"\"\"\\\\')\n",
        "print('|\"^\"`    |')\n",
        "print('||_/=\\\\\\\\__|')"
      ]
    },
    {
      "cell_type": "code",
      "execution_count": 15,
      "metadata": {
        "id": "JEJkg666nXOW",
        "colab": {
          "base_uri": "https://localhost:8080/"
        },
        "outputId": "f704bad6-fc67-40f1-8236-ab80ebeb9166"
      },
      "outputs": [
        {
          "output_type": "stream",
          "name": "stdout",
          "text": [
            "         ,r'\"7\n",
            "r`-_   ,'  ,/\n",
            " \\. \". L_r'\n",
            "   `~\\/\n",
            "      |\n",
            "      |\n"
          ]
        }
      ],
      "source": [
        "#1단계 입출력과 사칙연산\n",
        "#15 새싹\n",
        "\n",
        "print('         ,r\\'\"7')\n",
        "print('r`-_   ,\\'  ,/')\n",
        "print(' \\\\. \". L_r\\'')\n",
        "print('   `~\\\\/')\n",
        "print('      |')\n",
        "print('      |')"
      ]
    }
  ]
}