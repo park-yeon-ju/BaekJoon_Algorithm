{
  "nbformat": 4,
  "nbformat_minor": 0,
  "metadata": {
    "colab": {
      "provenance": [],
      "authorship_tag": "ABX9TyM8TDcNZfJ9OEFBkQefXtkE",
      "include_colab_link": true
    },
    "kernelspec": {
      "name": "python3",
      "display_name": "Python 3"
    },
    "language_info": {
      "name": "python"
    },
    "accelerator": "GPU"
  },
  "cells": [
    {
      "cell_type": "markdown",
      "metadata": {
        "id": "view-in-github",
        "colab_type": "text"
      },
      "source": [
        "<a href=\"https://colab.research.google.com/github/park-yeon-ju/BaekJoon_Algorithm/blob/main/%EB%B0%B1%EC%A4%80_4%EB%8B%A8%EA%B3%84_1%EC%B0%A8%EC%9B%90_%EB%B0%B0%EC%97%B4.ipynb\" target=\"_parent\"><img src=\"https://colab.research.google.com/assets/colab-badge.svg\" alt=\"Open In Colab\"/></a>"
      ]
    },
    {
      "cell_type": "code",
      "execution_count": null,
      "metadata": {
        "colab": {
          "base_uri": "https://localhost:8080/"
        },
        "id": "l7uaPyp97BRP",
        "outputId": "8a22ae04-07fa-482a-8f37-19be7c333d0b"
      },
      "outputs": [
        {
          "output_type": "stream",
          "name": "stdout",
          "text": [
            "5\n",
            "20 10 35 30 7\n",
            "7 35\n"
          ]
        }
      ],
      "source": [
        "#4단계 1차원 배열\n",
        "#1 최소, 최대\n",
        "\n",
        "n = int(input()) #정수의 개수\n",
        "nList = list(map(int,input().split()))\n",
        "\n",
        "min = nList[0]\n",
        "max = nList[0]\n",
        "\n",
        "for i in range(n) :\n",
        "  if nList[i] < min :\n",
        "    min = nList[i]\n",
        "  elif nList[i] > max :\n",
        "    max = nList[i]\n",
        "\n",
        "print(min,max, sep=' ')"
      ]
    },
    {
      "cell_type": "code",
      "execution_count": null,
      "metadata": {
        "colab": {
          "base_uri": "https://localhost:8080/"
        },
        "id": "zVnAkn3c7BVv",
        "outputId": "b2952f6f-393a-4104-ad0b-f3978596c8c8"
      },
      "outputs": [
        {
          "output_type": "stream",
          "name": "stdout",
          "text": [
            "3\n",
            "29\n",
            "38\n",
            "12\n",
            "57\n",
            "74\n",
            "40\n",
            "85\n",
            "61\n",
            "85\n",
            "8\n"
          ]
        }
      ],
      "source": [
        "#4단계 1차원 배열\n",
        "#2 최댓값\n",
        "\n",
        "nList = []\n",
        "for i in range(9) :\n",
        "  nList.append(int(input()))\n",
        "\n",
        "max = nList[0]\n",
        "\n",
        "for i in range(9) :\n",
        "  if nList[i] > max :\n",
        "    max = nList[i]\n",
        "\n",
        "print(max,nList.index(max)+1, sep=\"\\n\")"
      ]
    },
    {
      "cell_type": "code",
      "execution_count": null,
      "metadata": {
        "colab": {
          "base_uri": "https://localhost:8080/"
        },
        "id": "8QDqCRn87BZy",
        "outputId": "c472b79e-ad14-47cb-b25a-6305811ffcad"
      },
      "outputs": [
        {
          "output_type": "stream",
          "name": "stdout",
          "text": [
            "39\n",
            "40\n",
            "41\n",
            "42\n",
            "43\n",
            "44\n",
            "82\n",
            "83\n",
            "84\n",
            "85\n",
            "6\n"
          ]
        }
      ],
      "source": [
        "#4단계 1차원 배열\n",
        "#3 나머지\n",
        "\n",
        "nList = []\n",
        "\n",
        "for i in range(10) :\n",
        "  n = int(input())\n",
        "  n = n%42\n",
        "  nList.append(n)\n",
        "\n",
        "s = set(nList)\n",
        "print(len(s)) \n",
        "\n",
        "'''\n",
        "set()의 괄호 안에 리스트를 입력하여 만들 수 있고, 문자열을 입력해 만들 수도 있다.\n",
        "set의 특징은 중복을 허용하지 않고, 순서가 없다.\n",
        "'''"
      ]
    },
    {
      "cell_type": "code",
      "source": [
        "#4단계 1차원 배열\n",
        "#4 평균\n",
        "n = int(input())\n",
        "truth = list(map(int,input().split()))\n",
        "max_s = max(truth)\n",
        "\n",
        "new = []\n",
        "for score in truth :\n",
        "  temp = score/max(truth)*100\n",
        "  new.append(temp)\n",
        "  sum(new)\n",
        "\n",
        "print(\"%.2f\"%(sum(new)/n))"
      ],
      "metadata": {
        "colab": {
          "base_uri": "https://localhost:8080/"
        },
        "id": "ci6sngGo92Cd",
        "outputId": "1f550b1b-222a-4781-ba1b-7e08e0e9a5f6"
      },
      "execution_count": null,
      "outputs": [
        {
          "output_type": "stream",
          "name": "stdout",
          "text": [
            "3\n",
            "10 20 30\n",
            "<class 'list'>\n",
            "<class 'list'>\n",
            "<class 'list'>\n",
            "66.66666666666667\n"
          ]
        }
      ]
    },
    {
      "cell_type": "code",
      "execution_count": null,
      "metadata": {
        "id": "H-9m7wGo7BiF",
        "colab": {
          "base_uri": "https://localhost:8080/"
        },
        "outputId": "9a2d8692-9cdc-4634-da75-df2cafc5d70b"
      },
      "outputs": [
        {
          "output_type": "stream",
          "name": "stdout",
          "text": [
            "5\n",
            "OOXXOXXOOO\n",
            "10\n",
            "OOXXOOXXOO\n",
            "9\n",
            "OXOXOXOXOXOXOX\n",
            "7\n",
            "OOOOOOOOOO\n",
            "55\n",
            "OOOOXOOOOXOOOOX\n",
            "30\n"
          ]
        }
      ],
      "source": [
        "#4단계 1차원 배열\n",
        "#5 OX퀴즈\n",
        "\n",
        "case = int(input())\n",
        "for i in range(case) :\n",
        "  n=list(input())\n",
        "\n",
        "  sum = 0\n",
        "  cnt = 1\n",
        "  for k in n :\n",
        "    if k == 'O' :\n",
        "      sum += cnt\n",
        "      cnt += 1\n",
        "    else :\n",
        "      cnt = 1\n",
        "\n",
        "  print(sum)"
      ]
    },
    {
      "cell_type": "code",
      "execution_count": null,
      "metadata": {
        "colab": {
          "base_uri": "https://localhost:8080/"
        },
        "id": "57gkeTSw6aa0",
        "outputId": "0d3d9181-6ccc-4e29-8870-57063bf8068a"
      },
      "outputs": [
        {
          "output_type": "stream",
          "name": "stdout",
          "text": [
            "5\n",
            "5 50 50 70 80 100\n",
            "40.000%\n",
            "7 100 95 90 80 70 60 50\n",
            "57.143%\n",
            "3 70 90 80\n",
            "33.333%\n",
            "3 70 90 81\n",
            "66.667%\n",
            "9 100 99 98 97 96 95 94 93 91\n",
            "55.556%\n"
          ]
        }
      ],
      "source": [
        "#4단계 1차원 배열\n",
        "#6 평균은 넘겠지\n",
        "\n",
        "case = int(input())\n",
        "\n",
        "for i in range(case) :\n",
        "  data = list(map(int, input().split()))\n",
        "  avg = sum(data[1:])//data[0]\n",
        "  cnt = 0\n",
        "\n",
        "  for score in data[1:] :\n",
        "    if score > avg :\n",
        "      cnt += 1\n",
        "  percent = cnt/data[0] * 100\n",
        "  print(\"{:.3f}%\".format(round(percent,3)))"
      ]
    }
  ]
}